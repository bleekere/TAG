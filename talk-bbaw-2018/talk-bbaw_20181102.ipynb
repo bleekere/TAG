{
 "cells": [
  {
   "cell_type": "markdown",
   "metadata": {
    "slideshow": {
     "slide_type": "slide"
    }
   },
   "source": [
    "# Addressing Ancient Promises\n",
    "## _Text Modeling and Alexandria_\n",
    "\n",
    "Elli Bleeker  \n",
    "_Research and Development - Humanities Cluster, Royal Academy of Arts and Sciences_  \n",
    "\n",
    "DH-Kolloquim, Berlin-Brandenburgische Akademie der Wissenschaften  \n",
    "2 November 2018"
   ]
  },
  {
   "cell_type": "markdown",
   "metadata": {
    "slideshow": {
     "slide_type": "notes"
    }
   },
   "source": [
    "**NOTE** \n",
    "\n",
    "For my presentation, I made use of the RISE extension of Jupyter Notebook, that allows you to create a reveal.js-based presentation. You can download Jupyter notebook [here](https://jupyter.org/install) and an introduction of RISE [here](https://rise.readthedocs.io/en/stable/index.html). \n",
    "\n",
    "\n",
    "You can download my entire talk [here](https://github.com/bleekere/TAG/blob/master/talk-bbaw-2018/talk-bbaw_20181102.ipynb). After installing RISE in the same folder as you have downloaded this presentation, you can see it as a slideshow.\n",
    "\n",
    "The following is a downloaded version of my talk, that reads as one long text. The weird formatting is because of the conversions of the RISE-slides into text."
   ]
  },
  {
   "cell_type": "markdown",
   "metadata": {
    "slideshow": {
     "slide_type": "notes"
    }
   },
   "source": [
    "In _The Call of the Cthulhu_ (1926), science fiction writer H.P. Lovecraft wrote:"
   ]
  },
  {
   "cell_type": "markdown",
   "metadata": {
    "slideshow": {
     "slide_type": "slide"
    }
   },
   "source": [
    "_\"The most merciful thing in the world, I think, is the inability of the human mind to correlate all its contents. We live on a placid island of ignorance in the midst of black seas of infinity, and it was not meant that we should voyage far. The sciences, each straining in its own direction, have hitherto harmed us little; but some day the piecing together of dissociated knowledge will open up such terrifying vistas of reality, and of our frightful position therein, that we shall either go mad from the revelation or flee from the deadly light into the peace and safety of a new dark age.\"_\n",
    "\n",
    "H.P. Lovecraft, 1928"
   ]
  },
  {
   "cell_type": "markdown",
   "metadata": {
    "slideshow": {
     "slide_type": "notes"
    }
   },
   "source": [
    "Despite the ominous picture that is painted here, humankind has had the desire to \"piece together dissociated knowledge\" for centuries. Around 290 BC, King Ptolemy the First (or his son, king Ptolemy the Second; the record's not clear on that) charged the founding of a research institute which they called the \"Mouseion\". Part of this research institute was the library of Alexandria, famous to this day, which had for objective to be a \"universal library\". The goal was to \"collect all the books in the world\" and, notably, \"the writings of all men _as far as they were worth any attention_\"."
   ]
  },
  {
   "cell_type": "markdown",
   "metadata": {
    "slideshow": {
     "slide_type": "slide"
    }
   },
   "source": [
    "<img src=\"images/Ancientlibraryalex.jpg\" width=\"500\" height=\"300\" align=\"center\">"
   ]
  },
  {
   "cell_type": "markdown",
   "metadata": {
    "slideshow": {
     "slide_type": "notes"
    }
   },
   "source": [
    "The librarians were collectors of information and developed a methodology of examining manuscript copies and establishing \"the best\" text. This methodology forms the basis of textual criticism as we know it today. They created what can be seen as the first centre of knowledge production. "
   ]
  },
  {
   "cell_type": "markdown",
   "metadata": {
    "slideshow": {
     "slide_type": "notes"
    }
   },
   "source": [
    "The goal of the Mouseion and Alexandria was"
   ]
  },
  {
   "cell_type": "markdown",
   "metadata": {
    "slideshow": {
     "slide_type": "slide"
    }
   },
   "source": [
    "to unite all scholarly knowledge"
   ]
  },
  {
   "cell_type": "markdown",
   "metadata": {
    "slideshow": {
     "slide_type": "notes"
    }
   },
   "source": [
    "There was undeniably a political reasoning behind this objective: the ancient Egyptian rulers certainly understood the truth behind the idiom \"knowledge is power\" and were pretty rigorous in their methods of aquisition and their dissemination policy. But, politics aside, the combination of a vast library collection and an international research center facilitated the production of more knowledge. Scholars from all over the civilised world came to work in the Mouseion. They had considerable academic freedom and made avid use of the libary's collection which resulted in high-end scholarship and led to advances in the fields of natural sciences, geography, mathematics, literature, and philosophy. I think it safe to assume that today's digital libraries and archives still have this noble ambition. "
   ]
  },
  {
   "cell_type": "markdown",
   "metadata": {
    "slideshow": {
     "slide_type": "notes"
    }
   },
   "source": [
    "But what is that, exactly: _unite all scholarly knowledge_? Arguably, the least problematic word in that phrase is \"scholarly\", although what is deemed scholarly and what not is also a matter of debate. The other words, however, are even trickier. What does it mean, to \"unite\"? Does it suffice to bring together all books in one physical place? Books may stand side-by-side on a shelve, but that doesn't mean that their contents are united, let alone synthesised. And what is knowledge, actually? Is it even possible to have it _all_?"
   ]
  },
  {
   "cell_type": "markdown",
   "metadata": {
    "slideshow": {
     "slide_type": "notes"
    }
   },
   "source": [
    "I'm tempted to respond to that last question with \"no, it isn't\". That is incidentally also the principle the Open World Assumption of the Semantic Web:"
   ]
  },
  {
   "cell_type": "markdown",
   "metadata": {
    "slideshow": {
     "slide_type": "slide"
    }
   },
   "source": [
    "_\"No single agent or observer has complete knowledge... We admit that our knowledge of the world is incomplete.\"_\n",
    "\n",
    "Open Semantic Framework Wiki"
   ]
  },
  {
   "cell_type": "markdown",
   "metadata": {
    "slideshow": {
     "slide_type": "notes"
    }
   },
   "source": [
    "It basically means that the absence of a piece of information doesn't make it false: something can be true even if we cannot prove it's true and the other way around."
   ]
  },
  {
   "cell_type": "markdown",
   "metadata": {
    "slideshow": {
     "slide_type": "notes"
    }
   },
   "source": [
    "Phrases like \"unite scholarly knowledge\" also remind us of visions of the early digital textual scholars, who saw in the digital medium the way to make information accessible for everyone to look at from different perspectives, across disciplinary divides. They believed it possible to create every expanding knowledge sites that transcend individual project \"silos\" following the Linked Open Data principles. Those of you working in digital textual scholarship will know that, despite our best attentions, we have not yet reached that goal."
   ]
  },
  {
   "cell_type": "markdown",
   "metadata": {
    "slideshow": {
     "slide_type": "notes"
    }
   },
   "source": [
    "In fact, such closed data silos are still being developed. In a recent \"review-turned-reflection\" on the Mirador image viewer, my colleague Joris van Zundert identifies at least two causes: the limited financial resources (intra-institutional collaboration is more costly, both in time and in money, than a local solution) and the convenience of the developers who incidentally _also_ have to deal with limited time and money. In short, even though _in principle_ most scholars would agree that"
   ]
  },
  {
   "cell_type": "markdown",
   "metadata": {
    "slideshow": {
     "slide_type": "slide"
    }
   },
   "source": [
    "_\"... keeping tools and data locked in one place behind a one-size-fits-all interface would be in stark contrast to the heterogeneous demands and requirements scholars had for document resources that were spread, quite literally, across the planet...\"_\n",
    "\n",
    "Joris van Zundert, 2018"
   ]
  },
  {
   "cell_type": "markdown",
   "metadata": {
    "slideshow": {
     "slide_type": "notes"
    }
   },
   "source": [
    "it's still pretty much our reality."
   ]
  },
  {
   "cell_type": "markdown",
   "metadata": {
    "slideshow": {
     "slide_type": "notes"
    }
   },
   "source": [
    "In this talk, I describe how digital text modeling can, potentially, fulfil the objective of the great research libraries of the past: unite and disseminate scholarly knowledge. I identify three requirements (or let's call them \"desiderata\", as a salute to Peter Robinson): "
   ]
  },
  {
   "cell_type": "markdown",
   "metadata": {
    "slideshow": {
     "slide_type": "slide"
    }
   },
   "source": [
    "# Desiderata \n",
    "\n",
    "1. an **inclusive data model** that \n",
    "    \n",
    "    1.1. natively models advanced textual features \n",
    "    \n",
    "    1.2. provides a way to formalise the meaning of markup; \n",
    "\n",
    "\n",
    "2. **support for multiple perspectives on a source text**;  \n",
    "\n",
    "\n",
    "3. an **editing and version management tool** that fits within a **distributed architecture**."
   ]
  },
  {
   "cell_type": "markdown",
   "metadata": {
    "slideshow": {
     "slide_type": "notes"
    }
   },
   "source": [
    "The discussion of these desiderata form primarily the background for a presentation of _Alexandria_, a text repository system that is also the reference implementation of a new data model called TAG (Text-as-Graph). Both are under development at the R&D group of the HuC.\n",
    "\n",
    "I'll go in broad sweeps over concepts like information modeling, with which I'm sure all of you are familiar, but it gives me the chance to abuse computers a bit while citing computer scientists."
   ]
  },
  {
   "cell_type": "markdown",
   "metadata": {
    "slideshow": {
     "slide_type": "notes"
    }
   },
   "source": [
    "Because these requirements are related to the principles of the Semantic Web, the Linked Open Data (LOD) framework, and the ideals of a distributed architecture, I will touch upon those topics as well, but only in passing: the main goal of my talk is to establish an informed discussion about information modeling, data structures and digital textual scholarship. And, of course, to present and promote our own _Alexandria_."
   ]
  },
  {
   "cell_type": "markdown",
   "metadata": {
    "slideshow": {
     "slide_type": "slide"
    }
   },
   "source": [
    "## Definitions"
   ]
  },
  {
   "cell_type": "markdown",
   "metadata": {
    "slideshow": {
     "slide_type": "notes"
    }
   },
   "source": [
    "First, some definitions (which I'll probably use interchangeably anyway)."
   ]
  },
  {
   "cell_type": "markdown",
   "metadata": {
    "slideshow": {
     "slide_type": "slide"
    }
   },
   "source": [
    "## Information"
   ]
  },
  {
   "cell_type": "markdown",
   "metadata": {
    "slideshow": {
     "slide_type": "notes"
    }
   },
   "source": [
    "Information scholar Michael Buckland distinguishes three types of information:"
   ]
  },
  {
   "cell_type": "markdown",
   "metadata": {
    "slideshow": {
     "slide_type": "subslide"
    }
   },
   "source": [
    "1. Information-as-process  \n",
    "\n",
    "2. Information-as-knowledge  \n",
    "\n",
    "3. Information-as-thing"
   ]
  },
  {
   "cell_type": "markdown",
   "metadata": {
    "slideshow": {
     "slide_type": "notes"
    }
   },
   "source": [
    "1. **information-as-process**: the process of acquiring information, which may lead to knowledge.  \n",
    "\n",
    "2. **information-as-knowledge**: intangible. It needs to be expressed in a physical way, as a signal or communication. The expression makes the third form:  \n",
    "\n",
    "3. **information-as-thing**: tangible. Books, databases, bits, bytes, files, etc. Data. Text. Can be touched or measured. Representations of knowledge (because knowledge itself cannot be made tangible). Defined by Buckland as \"evidence\": it is related to understanding but in a passive way, as inferences can be drawn from it. This is the main focus of our work today. "
   ]
  },
  {
   "cell_type": "markdown",
   "metadata": {
    "slideshow": {
     "slide_type": "slide"
    }
   },
   "source": [
    "## Data"
   ]
  },
  {
   "cell_type": "markdown",
   "metadata": {
    "slideshow": {
     "slide_type": "notes"
    }
   },
   "source": [
    "\"There is a tendency to use \"data\" to denote numerical information and to use \"text\" to denote natural language in any medium. Some humanist scholars are even pointedly against considering texts as data, like Stephen Marche (2012)"
   ]
  },
  {
   "cell_type": "markdown",
   "metadata": {
    "slideshow": {
     "slide_type": "subslide"
    }
   },
   "source": [
    "_\"Literary texts cannot be reduced to data because they are too complex, very messy and never complete\"_  \n",
    "\n",
    "Stephen Marche, 2012"
   ]
  },
  {
   "cell_type": "markdown",
   "metadata": {
    "slideshow": {
     "slide_type": "notes"
    }
   },
   "source": [
    "In a similar vain, computer scientist William Kent said that"
   ]
  },
  {
   "cell_type": "markdown",
   "metadata": {
    "slideshow": {
     "slide_type": "subslide"
    }
   },
   "source": [
    "_\"Information in its 'real' essence is probably too amorphous, too ambiguous, too subjective, too slippery and elusive, to ever be pinned down precisely by the objective and deterministic processes embodied in a computer.\"_\n",
    "\n",
    "William Kent, 1978"
   ]
  },
  {
   "cell_type": "markdown",
   "metadata": {
    "slideshow": {
     "slide_type": "notes"
    }
   },
   "source": [
    "Still, I'd argue that this comment rather protests what \"data\" has come to mean in DH: the reduction of literary texts to quantifiable objects. Personally, I see no objection to the term: before they can be processed and analysed, literary texts are transformed into data with a certain structure. There's no question that this transformation entails a reduction and a loss of information, but that's rather the nature of modelling."
   ]
  },
  {
   "cell_type": "markdown",
   "metadata": {
    "slideshow": {
     "slide_type": "slide"
    }
   },
   "source": [
    "## Modeling"
   ]
  },
  {
   "cell_type": "markdown",
   "metadata": {
    "slideshow": {
     "slide_type": "notes"
    }
   },
   "source": [
    "By definition, "
   ]
  },
  {
   "cell_type": "markdown",
   "metadata": {
    "slideshow": {
     "slide_type": "subslide"
    }
   },
   "source": [
    "a model is always a selection of the original"
   ]
  },
  {
   "cell_type": "markdown",
   "metadata": {
    "slideshow": {
     "slide_type": "subslide"
    }
   },
   "source": [
    "_\"We always pay a price for theoretical knowledge: reality is infinitely rich; concepts are abstract, are poor. But it’s precisely this 'poverty' that makes it possible to handle them, and therefore to know.\"_\n",
    "\n",
    "Franco Moretti, 2000"
   ]
  },
  {
   "cell_type": "markdown",
   "metadata": {
    "slideshow": {
     "slide_type": "notes"
    }
   },
   "source": [
    "said Franco Moretti. Still, even though we understand the limits of models, it is considered"
   ]
  },
  {
   "cell_type": "markdown",
   "metadata": {
    "slideshow": {
     "slide_type": "subslide"
    }
   },
   "source": [
    "_\"the holy grail of computer science to algorithmically express the natural world\"_\n",
    "\n",
    "Teresa Nakra, 2006"
   ]
  },
  {
   "cell_type": "markdown",
   "metadata": {
    "slideshow": {
     "slide_type": "notes"
    }
   },
   "source": [
    "At least, according to professor Teresa Nakra, who's a computer scientist and musicologist. Why is this a holy grail? Is it really so hard?"
   ]
  },
  {
   "cell_type": "markdown",
   "metadata": {
    "slideshow": {
     "slide_type": "slide"
    }
   },
   "source": [
    "Because the natural world is ambiguous and complex; its products open to many different interpretations."
   ]
  },
  {
   "cell_type": "markdown",
   "metadata": {
    "slideshow": {
     "slide_type": "notes"
    }
   },
   "source": [
    "The computer, on the other hand, is rather dumb. Simplistic, if you will. \n",
    "\n",
    "William Kent described computer programming as"
   ]
  },
  {
   "cell_type": "markdown",
   "metadata": {
    "slideshow": {
     "slide_type": "slide"
    }
   },
   "source": [
    "_\"... the art of getting and imbecile to play bridge or to fill out his tax returns by himself. It can be done, provided you know how to exploit the imbeciles limited talents, and are willing to have enormous patience with his inability to make the most trivial common sense decisions on his own.\"_"
   ]
  },
  {
   "cell_type": "markdown",
   "metadata": {
    "slideshow": {
     "slide_type": "fragment"
    }
   },
   "source": [
    "_\"The first step toward understanding computers is an appreciation of their simplicity, not their complexity.\"_\n",
    "\n",
    "Kent, 1978"
   ]
  },
  {
   "cell_type": "markdown",
   "metadata": {
    "slideshow": {
     "slide_type": "notes"
    }
   },
   "source": [
    "Despite this utter stupidity we're apparently dealing with on a day to day basis, we can already do lots of cool stuff with a computer when it comes to modeling complex documents. Achievements that, if we follow Kent's argument, can be wholly and uniquely attributed to our human intelligence! So, unfaltering, we continue with our quest."
   ]
  },
  {
   "cell_type": "markdown",
   "metadata": {
    "slideshow": {
     "slide_type": "notes"
    }
   },
   "source": [
    "This brings me to the first point, the first \"desideratum\" if you will:"
   ]
  },
  {
   "cell_type": "markdown",
   "metadata": {
    "slideshow": {
     "slide_type": "slide"
    }
   },
   "source": [
    "## 1. A Flexible and Inclusive Data Model"
   ]
  },
  {
   "cell_type": "markdown",
   "metadata": {
    "slideshow": {
     "slide_type": "notes"
    }
   },
   "source": [
    "We have at our disposition a number of different data models to express and represent text. I'll give a brief outline of the most common or extraordinary ones. Keep in mind the difference between a data model and a syntax! A syntax is a serialisation of a data model, e.g., XML is a serialisation (= a linearly ordered expression) of the OHCO model, but SGML as well."
   ]
  },
  {
   "cell_type": "markdown",
   "metadata": {
    "slideshow": {
     "slide_type": "slide"
    }
   },
   "source": [
    "| Data model || Serialisation ||\n",
    "|:------:||:--------------------:||\n",
    "|String || plain text (ranges) ||\n",
    "|OHCO|| SGML, XML ||\n",
    "|Graph||Turtle, N-Triple, RDF/XML... ||\n"
   ]
  },
  {
   "cell_type": "markdown",
   "metadata": {
    "slideshow": {
     "slide_type": "notes"
    }
   },
   "source": [
    "Each of these formats has disadvantages but also their own merits. As Fabio Vitali argued a few years back, with the help of some coding and hacks you can express almost everything in every data model (though it ain't always pretty)."
   ]
  },
  {
   "cell_type": "markdown",
   "metadata": {
    "slideshow": {
     "slide_type": "slide"
    }
   },
   "source": [
    "<img src=\"images/vitali-data-formats.png\">\n",
    "\n",
    "Image by Vitali (2016)"
   ]
  },
  {
   "cell_type": "markdown",
   "metadata": {
    "slideshow": {
     "slide_type": "notes"
    }
   },
   "source": [
    "Making use of what is already there has a lot of benefits: it is more or less stable, people know and understand it, there's usually a community, tutorials and tools made to work with that format. The downsides:"
   ]
  },
  {
   "cell_type": "markdown",
   "metadata": {
    "slideshow": {
     "slide_type": "slide"
    }
   },
   "source": [
    "1. Models influence the way we think and argue about text."
   ]
  },
  {
   "cell_type": "markdown",
   "metadata": {
    "slideshow": {
     "slide_type": "notes"
    }
   },
   "source": [
    "It's a sneaky one: if we use certain models long enough, they can influence the way we think and argue about text. They can even - very subtly - encourage us to ignore certain features that are not represented in that particular model. Patrick Sahle noted, with regard to TEI,"
   ]
  },
  {
   "cell_type": "markdown",
   "metadata": {
    "slideshow": {
     "slide_type": "subslide"
    }
   },
   "source": [
    "_\"TEI konzentriert sich for allen auf den Text als Werk(-Struktur), als sprachliche Äußerung und als kanonisierte, definierte oder auch variante Fassung. Der Text als intentionale Mitteilung, als semantischer Inhalt, aber auch der Text als physisches Object, als Dokument, wird nur am Rande unterstützt. Der Text als komplexes Zeichen, als semiotic Entität, spielt bei der TEI keine Rolle.\"_\n",
    "\n",
    "Patrick Sahle, 2013"
   ]
  },
  {
   "cell_type": "markdown",
   "metadata": {
    "slideshow": {
     "slide_type": "slide"
    }
   },
   "source": [
    "2. Workarounds and local \"solutions\" hinder interoperability and reusability"
   ]
  },
  {
   "cell_type": "markdown",
   "metadata": {
    "slideshow": {
     "slide_type": "notes"
    }
   },
   "source": [
    "The more complex your texts (or what you want to do with it), the more coding, hacking and workarounds. I am not saying that modeling complex textual features in XML or RDF is impossible. It may lead to a reduced human-readability of the file (which is more important than you may think, especially when it concerns humanities scholars), but you may argue that the file is not intended to be read by humans, as long as machines understand it. However, it also hinders interoperability and delegates a lot of responsibility and complexity to the application level that processes the data."
   ]
  },
  {
   "cell_type": "markdown",
   "metadata": {
    "slideshow": {
     "slide_type": "notes"
    }
   },
   "source": [
    "Let's take a closer look at what I mean, exactly, with \"complex textual features\" that are hard to express in existing models. I'll show an example from a modern literary manuscript, but you can find these structures anywhere."
   ]
  },
  {
   "cell_type": "markdown",
   "metadata": {
    "slideshow": {
     "slide_type": "slide"
    }
   },
   "source": [
    "# Difficult textual features \n",
    "\n",
    "- Overlapping structures  \n",
    "- Discontinuous elements  \n",
    "- Non-linear elements"
   ]
  },
  {
   "cell_type": "markdown",
   "metadata": {
    "slideshow": {
     "slide_type": "subslide"
    }
   },
   "source": [
    "# Overlapping structures\n",
    "<img src=\"images/Selection-21v.png\">\n",
    "<img src=\"images/Selection-22v.png\">\n",
    "\n",
    "Fragment from the authorial manuscript \"Prometheus Unbound\" by Percy Bysshe Shelley (pages 21v and 22v; retrieved from http://shelleygodwinarchive.org/sc/oxford/prometheus_unbound/act/i/#/p8)"
   ]
  },
  {
   "cell_type": "markdown",
   "metadata": {
    "slideshow": {
     "slide_type": "subslide"
    }
   },
   "source": [
    "# Non-linear structures"
   ]
  },
  {
   "cell_type": "markdown",
   "metadata": {
    "slideshow": {
     "slide_type": "fragment"
    }
   },
   "source": [
    "```\n",
    "<s> through shrieks of \n",
    "  <choice>\n",
    "    <sic>slaugter</sic>\n",
    "    <corr>slaughter</corr>\n",
    "  </choice>\n",
    "</s>\n",
    "```"
   ]
  },
  {
   "cell_type": "markdown",
   "metadata": {
    "slideshow": {
     "slide_type": "fragment"
    }
   },
   "source": [
    "```\n",
    "<s> through shrieks of \n",
    "  <choice>\n",
    "    <corr>slaughter</corr>\n",
    "    <sic>slaugter</sic>\n",
    "  </choice>\n",
    "</s>\n",
    "```"
   ]
  },
  {
   "cell_type": "markdown",
   "metadata": {
    "slideshow": {
     "slide_type": "subslide"
    }
   },
   "source": [
    "<img align=\"left\" width=\"300\" height=\"300\" src=\"images/order1a.png\"> \n",
    "\n",
    "<img align=\"right\" width=\"300\" height=\"300\" src=\"images/order1b.png\">"
   ]
  },
  {
   "cell_type": "markdown",
   "metadata": {
    "slideshow": {
     "slide_type": "subslide"
    }
   },
   "source": [
    "# Discontinuous elements\n",
    "<img width=\"300\" height=\"300\" src=\"images/order.jpg\">"
   ]
  },
  {
   "cell_type": "markdown",
   "metadata": {
    "slideshow": {
     "slide_type": "notes"
    }
   },
   "source": [
    "If you are interested in such phenomena, and if you're modelling text I can hardly imagine you're _not_ interested in them, then there's value in using a data model that is close to your understanding of text. A model that can deal with these features natively. With this in mind, we developed"
   ]
  },
  {
   "cell_type": "markdown",
   "metadata": {
    "slideshow": {
     "slide_type": "slide"
    }
   },
   "source": [
    "a hypergraph model for text"
   ]
  },
  {
   "cell_type": "markdown",
   "metadata": {
    "slideshow": {
     "slide_type": "subslide"
    }
   },
   "source": [
    "| Data model || Serialisation ||\n",
    "|:------:||:--------------------:||\n",
    "|String || plain text (ranges) ||\n",
    "|OHCO|| SGML, XML ||\n",
    "|Graph||Turtle, N-Triple, RDF/XML, **hypergraph for text** ||"
   ]
  },
  {
   "cell_type": "markdown",
   "metadata": {
    "slideshow": {
     "slide_type": "notes"
    }
   },
   "source": [
    "Like the graphs we're used to, a hypergraph consists of nodes and edges, but it also has hyperedges that can connect more than two nodes. To have the model support our understanding of text, we needed to define it as precisely as possible. In our definition,"
   ]
  },
  {
   "cell_type": "markdown",
   "metadata": {
    "slideshow": {
     "slide_type": "slide"
    }
   },
   "source": [
    "Text is a multilayered, nonlinear object containing information that is at times ordered, partially ordered and unordered."
   ]
  },
  {
   "cell_type": "markdown",
   "metadata": {
    "slideshow": {
     "slide_type": "slide"
    }
   },
   "source": [
    "## Nonlinearity in TAG\n",
    "\n",
    "<img width=\"500\" height=\"500\" src=\"images/nonlinearity.png\">"
   ]
  },
  {
   "cell_type": "markdown",
   "metadata": {
    "slideshow": {
     "slide_type": "subslide"
    }
   },
   "source": [
    "## Nonlinearity in TAG\n",
    "\n",
    "<img width=\"500\" height=\"500\" src=\"images/nonlinearity-markup1.png\">"
   ]
  },
  {
   "cell_type": "markdown",
   "metadata": {
    "slideshow": {
     "slide_type": "subslide"
    }
   },
   "source": [
    "## Nonlinearity in TAG\n",
    "\n",
    "<img width=\"500\" height=\"500\" src=\"images/nonlinearity-markup2.png\">"
   ]
  },
  {
   "cell_type": "markdown",
   "metadata": {
    "slideshow": {
     "slide_type": "slide"
    }
   },
   "source": [
    "## Discontinuity in TAG\n",
    "\n",
    "\n",
    "\n",
    "<img width=\"500\" height=\"500\" src=\"images/discont.png\">"
   ]
  },
  {
   "cell_type": "markdown",
   "metadata": {
    "slideshow": {
     "slide_type": "subslide"
    }
   },
   "source": [
    "## Discontinuity in TAG  \n",
    "\n",
    "\n",
    "\n",
    "<img width=\"500\" height=\"500\" src=\"images/discont-markup.png\">"
   ]
  },
  {
   "cell_type": "markdown",
   "metadata": {
    "slideshow": {
     "slide_type": "notes"
    }
   },
   "source": [
    "If I describe how the TAG hypergraph model deals with complex texts, we're here for the rest of the evening. In addition to the data model, we've designed a serialisation (a markup language) called TAGML, which requires a grammar and a schema and that poses challenges of its own. If you want, we can get back to it later. For now, let's move on to the second desideratum:"
   ]
  },
  {
   "cell_type": "markdown",
   "metadata": {
    "slideshow": {
     "slide_type": "slide"
    }
   },
   "source": [
    "# 2. Multiple Perspectives"
   ]
  },
  {
   "cell_type": "markdown",
   "metadata": {
    "slideshow": {
     "slide_type": "notes"
    }
   },
   "source": [
    "What do I mean with that? Well, remember the Open World Assumption that we can never be entirely sure we know everthing? You can also put it this way:"
   ]
  },
  {
   "cell_type": "markdown",
   "metadata": {
    "slideshow": {
     "slide_type": "subslide"
    }
   },
   "source": [
    "Scholars disagree on everything."
   ]
  },
  {
   "cell_type": "markdown",
   "metadata": {
    "slideshow": {
     "slide_type": "notes"
    }
   },
   "source": [
    "This is very much okay, because opposing views are the driving force behind research. Also: views do not always oppose one another but happily coexist. In digital text modeling, these coexisting perspectives are often a cause for overlap. So typically editors either choose one dominating perspective. I know of only one example of an edition project that actually encoded both perspectives: the Faust Edition."
   ]
  },
  {
   "cell_type": "markdown",
   "metadata": {
    "slideshow": {
     "slide_type": "notes"
    }
   },
   "source": [
    "In the TAG model, overlap is not an issue anymore. But how can we deal with these coexisting yet different views on the same data? Our solution is"
   ]
  },
  {
   "cell_type": "markdown",
   "metadata": {
    "slideshow": {
     "slide_type": "slide"
    }
   },
   "source": [
    "### Layers"
   ]
  },
  {
   "cell_type": "markdown",
   "metadata": {
    "slideshow": {
     "slide_type": "notes"
    }
   },
   "source": [
    "Layers are, in fact, TAG's solution to many issues."
   ]
  },
  {
   "cell_type": "markdown",
   "metadata": {
    "slideshow": {
     "slide_type": "subslide"
    }
   },
   "source": [
    "Layers classify a set of markup nodes."
   ]
  },
  {
   "cell_type": "markdown",
   "metadata": {
    "slideshow": {
     "slide_type": "notes"
    }
   },
   "source": [
    "These nodes can be classified as belonging to a certain research perspective (like nodes expressing the materiality of a document, or nodes expressing linguistic information) or they identify which user has added the markup (like all markup added by Elli, or all markup added by Frederike). "
   ]
  },
  {
   "cell_type": "markdown",
   "metadata": {
    "slideshow": {
     "slide_type": "fragment"
    }
   },
   "source": [
    "Layers are hierarchical: the nodes within one layer are hierarchically ordered. "
   ]
  },
  {
   "cell_type": "markdown",
   "metadata": {
    "slideshow": {
     "slide_type": "fragment"
    }
   },
   "source": [
    "Layers may share markup nodes and textual nodes."
   ]
  },
  {
   "cell_type": "markdown",
   "metadata": {
    "slideshow": {
     "slide_type": "notes"
    }
   },
   "source": [
    "In other words: layers may overlap, but within one layer there can be no overlapping markup. This feature touches upon the discussion of containment and dominance, but we'll get to that when we have time."
   ]
  },
  {
   "cell_type": "markdown",
   "metadata": {
    "slideshow": {
     "slide_type": "fragment"
    }
   },
   "source": [
    "Layers can start locally, at any point in the document"
   ]
  },
  {
   "cell_type": "markdown",
   "metadata": {
    "slideshow": {
     "slide_type": "notes"
    }
   },
   "source": [
    "In the second part of this lecture, I'll give a demo to show how layers work, but here you can already see some examples in fragments of a TAGML transcription:"
   ]
  },
  {
   "cell_type": "markdown",
   "metadata": {
    "slideshow": {
     "slide_type": "slide"
    }
   },
   "source": [
    "## Astrid\n",
    "```\n",
    "[TAGML>\n",
    "[page>\n",
    "[p>\n",
    "[line>2d. Voice from the Springs<line]\n",
    "[line>Thrice three hundred thousand years<line]\n",
    "[line>We had been stained with bitter blood<line]\n",
    "<p]\n",
    "<page]\n",
    "[page>\n",
    "[p>\n",
    "[line>And had ran mute 'mid shrieks of slaughter<line]\n",
    "[line>Thro' a city and a multitude<line]\n",
    "<p]\n",
    "<page]\n",
    "<TAGML]\n",
    "```"
   ]
  },
  {
   "cell_type": "markdown",
   "metadata": {
    "slideshow": {
     "slide_type": "notes"
    }
   },
   "source": [
    "The layers in TAG are Multi-Colored Trees (MCT)."
   ]
  },
  {
   "cell_type": "markdown",
   "metadata": {
    "slideshow": {
     "slide_type": "subslide"
    }
   },
   "source": [
    "<img align=\"center\" src=\"images/A1-MCT.png\">"
   ]
  },
  {
   "cell_type": "markdown",
   "metadata": {
    "slideshow": {
     "slide_type": "slide"
    }
   },
   "source": [
    "## Astrid\n",
    "```\n",
    "[TAGML>\n",
    "[page|+L1>\n",
    "[p|+L2>\n",
    "[line>2d. Voice from the Springs<line]\n",
    "[line>Thrice three hundred thousand years<line]\n",
    "[line>We had been stained with bitter blood<line]\n",
    "<page|L1]\n",
    "[page|L1>\n",
    "[line>And had ran mute 'mid shrieks of slaughter<line]\n",
    "[line>Thro' a city and a multitude<line]\n",
    "<p|L2]\n",
    "<page|L2]\n",
    "<TAGML]\n",
    "```"
   ]
  },
  {
   "cell_type": "markdown",
   "metadata": {
    "slideshow": {
     "slide_type": "subslide"
    }
   },
   "source": [
    "<img align=\"center\" src=\"images/A2-MCT.png\">"
   ]
  },
  {
   "cell_type": "markdown",
   "metadata": {
    "slideshow": {
     "slide_type": "slide"
    }
   },
   "source": [
    "## Bram\n",
    "```\n",
    "[TAGML>\n",
    "[page|+A,+L1>\n",
    "[poem|+B>\n",
    "[p|A,+L2>\n",
    "[sp|B>[l|B>[line|A>2d. Voice from the Springs<l]<line]\n",
    "[line|A>Thrice three hundred thousand years<l]<line]\n",
    "[line|A>We had been stained with bitter blood<l]<line]\n",
    "<page|L1]\n",
    "[page|A,L1>\n",
    "[line|A>[l|B>And had ran mute 'mid shrieks of slaughter<l]<line]\n",
    "[line|A>[l|B>Thro' a city & a multitude<l]<line]\n",
    "<p|L2]\n",
    "<sp]\n",
    "<page]\n",
    "<TAGML]\n",
    "```\n"
   ]
  },
  {
   "cell_type": "markdown",
   "metadata": {
    "slideshow": {
     "slide_type": "subslide"
    }
   },
   "source": [
    "<img align=\"center\" src=\"images/AB-MCT.png\">"
   ]
  },
  {
   "cell_type": "markdown",
   "metadata": {
    "slideshow": {
     "slide_type": "notes"
    }
   },
   "source": [
    "Working with layers has a number of important implications:"
   ]
  },
  {
   "cell_type": "markdown",
   "metadata": {
    "slideshow": {
     "slide_type": "slide"
    }
   },
   "source": [
    "## Implications\n",
    "\n",
    "- abandoning a shared conception of digital editing in favor of multiple perspectives  \n",
    "\n",
    "\n",
    "- coexisting views, not one view leading"
   ]
  },
  {
   "cell_type": "markdown",
   "metadata": {
    "slideshow": {
     "slide_type": "fragment"
    }
   },
   "source": [
    "- increased readability _and_ reusability  \n",
    "\n",
    "\n",
    "- documentation: clearly communicate what information is in a file"
   ]
  },
  {
   "cell_type": "markdown",
   "metadata": {
    "slideshow": {
     "slide_type": "notes"
    }
   },
   "source": [
    "With regard to the readability and reusability: this is the case when filtering out one or more layers, e.g., \"show me only the markup with the layer ID [A]\". With regard to the documentation: we're working on generating documentation to a certain extent."
   ]
  },
  {
   "cell_type": "markdown",
   "metadata": {
    "slideshow": {
     "slide_type": "notes"
    }
   },
   "source": [
    "We have come to the third and final \"desideratum\" or required component: a platform-independent system to work with TAG files containing multiple layers."
   ]
  },
  {
   "cell_type": "markdown",
   "metadata": {
    "slideshow": {
     "slide_type": "slide"
    }
   },
   "source": [
    "## 3. Distributed System"
   ]
  },
  {
   "cell_type": "markdown",
   "metadata": {
    "slideshow": {
     "slide_type": "notes"
    }
   },
   "source": [
    "First, let's talk about the system."
   ]
  },
  {
   "cell_type": "markdown",
   "metadata": {
    "slideshow": {
     "slide_type": "notes"
    }
   },
   "source": [
    "_Alexandria_ works similar to git:"
   ]
  },
  {
   "cell_type": "markdown",
   "metadata": {
    "slideshow": {
     "slide_type": "slide"
    }
   },
   "source": [
    "<img align=\"center\" src=\"images/workflow-alexandria_v0.4.png\">"
   ]
  },
  {
   "cell_type": "markdown",
   "metadata": {
    "slideshow": {
     "slide_type": "slide"
    }
   },
   "source": [
    "<img align=\"center\" src=\"images/workflow-alexandria-remote-repo_v.2.png\">"
   ]
  },
  {
   "cell_type": "markdown",
   "metadata": {
    "slideshow": {
     "slide_type": "slide"
    }
   },
   "source": [
    "[demo]"
   ]
  },
  {
   "cell_type": "markdown",
   "metadata": {
    "slideshow": {
     "slide_type": "notes"
    }
   },
   "source": [
    "You may imagine (or not, but then let me point it out to you) that a workflow with layers implies a comparison between two marked-up files, finding changes in markup, text or both.  \n",
    "\n",
    "We have developed a versioning tool that is able to do that (although it requires more testing) so the challenge is sooner conceptual (or philosophical) than technical.\n",
    "\n",
    "It comes down to questions like:"
   ]
  },
  {
   "cell_type": "markdown",
   "metadata": {
    "slideshow": {
     "slide_type": "subslide"
    }
   },
   "source": [
    "What defines \"change\"? How do you identify a new version? "
   ]
  },
  {
   "cell_type": "markdown",
   "metadata": {
    "slideshow": {
     "slide_type": "fragment"
    }
   },
   "source": [
    "Do you want to label the changes as additions (keeping the first version) or as substitutions (disgarding the first version)? If I change Astrid's `[line>` markup to `[s>`, should we keep the `[line>` information as well?"
   ]
  },
  {
   "cell_type": "markdown",
   "metadata": {
    "slideshow": {
     "slide_type": "fragment"
    }
   },
   "source": [
    "Is a perspective only markup, or also text? "
   ]
  },
  {
   "cell_type": "markdown",
   "metadata": {
    "slideshow": {
     "slide_type": "notes"
    }
   },
   "source": [
    "Intuitively we'd say that a perspective consists of text _and_ markup: in one perspective, a transcriber can identift a typo with `[sic> [corr>` while another transcriber may choose to disgard the typo and silently correct it. As a result, one perspective contains both `slaugter` and `slaughter` while the other perspective only contains `slaughter`."
   ]
  },
  {
   "cell_type": "markdown",
   "metadata": {
    "slideshow": {
     "slide_type": "notes"
    }
   },
   "source": [
    "Still, there are no ready answers to these and similar questions. On the contrary, there are possibly opposing views, but as I've just argued that opposing views can lead to innovation that seems fine. \n",
    "\n",
    "We just need more testing and more people to work with TAG and profound philosophical discussions about markup, modeling and text."
   ]
  },
  {
   "cell_type": "markdown",
   "metadata": {
    "slideshow": {
     "slide_type": "notes"
    }
   },
   "source": [
    "Remember the Holy Grail of computer science? According to Joris van Zundert, there's also a holy grail of digital textual scholarship:"
   ]
  },
  {
   "cell_type": "markdown",
   "metadata": {
    "slideshow": {
     "slide_type": "slide"
    }
   },
   "source": [
    "_\"The ultimate transcription environment has become something of a holy grail within digital textual scholarship.\"_"
   ]
  },
  {
   "cell_type": "markdown",
   "metadata": {
    "slideshow": {
     "slide_type": "notes"
    }
   },
   "source": [
    "And, in line with the metaphor, all attempts to find that grail have been in vain:"
   ]
  },
  {
   "cell_type": "markdown",
   "metadata": {
    "slideshow": {
     "slide_type": "fragment"
    }
   },
   "source": [
    "_\"There is also a graveyard somewhere for scholarly transcription environments... In the case of transcription tools, a defining trope would be that the tool was built as an integrated transcription environment\"_\n",
    "\n",
    "Van Zundert, 2018"
   ]
  },
  {
   "cell_type": "markdown",
   "metadata": {
    "slideshow": {
     "slide_type": "notes"
    }
   },
   "source": [
    "It's a truism that if you want a large community, that has developed its own set of preferred methods, tools and convictions, to drop all that and adopt your does-it-all tool, you're gonna fail. \n",
    "\n",
    "\n",
    "_Alexandria_ is therefore implemented as a command-line tool without an interface. It's a skeleton, a basic structure for which you can developed your own interface, if you please, or which you can integrate in an existing environment of choice. It is not dependent on a platform or an operating system and fits within a distributed architecture."
   ]
  },
  {
   "cell_type": "markdown",
   "metadata": {
    "slideshow": {
     "slide_type": "notes"
    }
   },
   "source": [
    "With Alexandria, in short, we do _not_ provide an integrated transcription environment that will, in due time, find it's way to its friends on a graveyard, but we provide a flexible tool that can be integrated in an editorial workflow."
   ]
  },
  {
   "cell_type": "markdown",
   "metadata": {
    "slideshow": {
     "slide_type": "notes"
    }
   },
   "source": [
    "Not coincidentally, _Alexandria_ is created by two developers who were also part of the _Interedition_ project (2007-2013) that can be accredited with tools like CollateX and StemmaWeb among others. _Alexandria_ is an open source software component that allows for customisation."
   ]
  },
  {
   "cell_type": "markdown",
   "metadata": {
    "slideshow": {
     "slide_type": "slide"
    }
   },
   "source": [
    "# In conclusion"
   ]
  },
  {
   "cell_type": "markdown",
   "metadata": {
    "slideshow": {
     "slide_type": "notes"
    }
   },
   "source": [
    "With the TAG data model and the reference implementation _Alexandria_ we've taken some significant steps towards that holy grail of computer science: expressing the natural world algorithmically so that the computer - that imbecile - can understand and be an even better instrument for scholarly research. A while ago, Wendell Piez said of his LMNL data model that"
   ]
  },
  {
   "cell_type": "markdown",
   "metadata": {
    "slideshow": {
     "slide_type": "subslide"
    }
   },
   "source": [
    "_\"both the analysis and the representation of literary texts are enabled in new ways by being able to overlap freely in the model\"_\n",
    "\n",
    "Wendell Piez, 2014"
   ]
  },
  {
   "cell_type": "markdown",
   "metadata": {
    "slideshow": {
     "slide_type": "notes"
    }
   },
   "source": [
    "We can paraphrase that, saying"
   ]
  },
  {
   "cell_type": "markdown",
   "metadata": {
    "slideshow": {
     "slide_type": "subslide"
    }
   },
   "source": [
    "Both the analysis and representation of, and the collaboration on literary texts are enabled in new ways by being able to natively express complex textual features in the model."
   ]
  },
  {
   "cell_type": "markdown",
   "metadata": {
    "slideshow": {
     "slide_type": "notes"
    }
   },
   "source": [
    "Using _Alexandria_ and the TAG data model does have some epistemological consequences for our understanding of a version, of text, of information produced by scholars, etc. I'll just mention some, without necessarily answering them. Food for thought and a basis for the discussion."
   ]
  },
  {
   "cell_type": "markdown",
   "metadata": {
    "slideshow": {
     "slide_type": "slide"
    }
   },
   "source": [
    "- Can we represent information about text so that others can meaningfully interact with it?"
   ]
  },
  {
   "cell_type": "markdown",
   "metadata": {
    "slideshow": {
     "slide_type": "fragment"
    }
   },
   "source": [
    "- What does it mean when our textual models are _conceptually_ no longer limited by a particular format or structure? "
   ]
  },
  {
   "cell_type": "markdown",
   "metadata": {
    "slideshow": {
     "slide_type": "fragment"
    }
   },
   "source": [
    "- Where do we stand regarding ambiguity in our description of information?"
   ]
  },
  {
   "cell_type": "markdown",
   "metadata": {
    "slideshow": {
     "slide_type": "notes"
    }
   },
   "source": [
    "The layer-feature of TAG allows you to express ambiguous information about a text. On the other hand, there's significant value in disambiguating the tags used for each layer, for instance by linking them to a sort of ontology that formalises the semantics of your tag set. This facilitates processing, querying and reusing. Now that I mention \"ontology\" we may also have to discuss semantics in realition to TAG. If there's time..."
   ]
  },
  {
   "cell_type": "markdown",
   "metadata": {
    "slideshow": {
     "slide_type": "notes"
    }
   },
   "source": [
    "I want to emphasise here that we shouldn't pass lightly over the value of existing models and data structures. RDF and XML have much going for them:"
   ]
  },
  {
   "cell_type": "markdown",
   "metadata": {
    "slideshow": {
     "slide_type": "slide"
    }
   },
   "source": [
    "### Don't throw the baby out with the bath water!"
   ]
  },
  {
   "cell_type": "markdown",
   "metadata": {
    "slideshow": {
     "slide_type": "fragment"
    }
   },
   "source": [
    "- It's easy to start right away with XML; there are tutorials all over the web, there's a strong and active community\n",
    "- There's never enough time and money; if you're on a tight budget it can make sense to cut technical training of editors or to stay clear of experimenting\n",
    "- Not everyone has revolutionary ambitions; sometimes all you want to do is publish fast and cheap."
   ]
  },
  {
   "cell_type": "markdown",
   "metadata": {
    "slideshow": {
     "slide_type": "notes"
    }
   },
   "source": [
    "These are solid reasons and we don't argue against them. All of it is possible in TAG, and perhaps even easier: we can follow the TEI encoding standard but avoid the complicated workarounds when you encounter forms of overlap.  \n",
    "\n",
    "Furthermore, the TAG model entails a strict separation between responsibilities (encoding - schema - semantics), outsourcing certain responsibilities to the application layer which makes it easier to process.\n",
    "\n",
    "Again, I cite Piez:"
   ]
  },
  {
   "cell_type": "markdown",
   "metadata": {
    "slideshow": {
     "slide_type": "slide"
    }
   },
   "source": [
    "_\"The primary goal of text encoding in the humanities should not be to conform to standards ... Rather, we encode texts and represent them digitally in order to present, examine, study, and reflect on the rich heritage of knowledge and expression presented to us in our cultural legacy\"_\n",
    "\n",
    "Piez, 2014"
   ]
  },
  {
   "cell_type": "markdown",
   "metadata": {
    "slideshow": {
     "slide_type": "notes"
    }
   },
   "source": [
    "The combination of TAG and _Alexandria_ provides us with a powerful modelling tool: "
   ]
  },
  {
   "cell_type": "markdown",
   "metadata": {
    "slideshow": {
     "slide_type": "slide"
    }
   },
   "source": [
    "### TAG and _Alexandria_\n",
    "\n",
    "- multiple coexisting views\n",
    "- inclusive data model\n",
    "- modular, open source software"
   ]
  },
  {
   "cell_type": "markdown",
   "metadata": {
    "slideshow": {
     "slide_type": "notes"
    }
   },
   "source": [
    "Even though we are in the midst of development, these features already influence how we model, think about, proceas and analyse text. The abstract objective of the ancient Museion, \"to unite all scholarly knowledge\" has become a concrete and even attainable goal."
   ]
  },
  {
   "cell_type": "markdown",
   "metadata": {
    "slideshow": {
     "slide_type": "slide"
    }
   },
   "source": [
    "### Credits\n",
    "\n",
    "Research & Development team involved in TAG: Ronald Haentjens Dekker, Bram Buitendijk, Astrid Kulsdom, Elli Bleeker.\n",
    "\n",
    "See [Alexandria](https://github.com/HuygensING/alexandria-markup-server/blob/master/README.md) and [TAG](https://github.com/HuygensING/TAG) on Github"
   ]
  },
  {
   "cell_type": "markdown",
   "metadata": {
    "slideshow": {
     "slide_type": "slide"
    }
   },
   "source": [
    "### References\n",
    "\n",
    "- The BECHAMEL project, Illinois School of Information Science, see https://ischool.illinois.edu/research/projects/bechamel-markup-semantics-project.\n",
    "\n",
    "- Bleeker, Elli, Bram Buitendijk, Ronald Haentjens Dekker, and Astrid Kulsdom. \"Including XML markup in the automated collation of literary texts.\" Presented at XML Prague 2018, Prague, Czech Republic, February 8–10, 2018. In _XML Prague 2018 - Conference Proceedings, pp. 77–95_. http://archive.xmlprague.cz/2018/files/xmlprague-2018-proceedings.pdf  \n",
    "\n",
    "- Buckland, Michael K. 1991. \"Information as Thing\". In _Journal of the American Society for Information Science_ vol. 42, no. 5, pp. 351-350.\n",
    "\n",
    "- Ciotti, Fabio and Francesca Tomasi. 2016. \"Formal Ontologies, Linked Data, and TEI Semantics\". In _Journal of the Text Encoding Initiative_, issue 9, September 2016 - December 2017.\n",
    "\n",
    "- Davidson, Justin. 2006. ‘Measure for Measure: Exploring the Mysteries of Conducting.’ The New Yorker, pp. 60-69\n",
    "\n",
    "- Jagadish, H. V., Laks VS Lakshmanan, Monica Scannapieco, Divesh Srivastava, and Nuwee Wiwatwattana. 2004. \"Colorful XML: one hierarchy isn't enough.\" In _Proceedings of the 2004 ACM SIGMOD International Conference on Management of Data_, pp. 251-262. ACM, 2004.  \n",
    "\n",
    "- Haentjens Dekker, Ronald and David J. Birnbaum. 2017. \"It's more than just overlap: Text As Graph.\" Presented at Balisage: The Markup Conference 2017, Washington, DC, August 1 - 4, 2017. In _Proceedings of Balisage: The Markup Conference 2017. Balisage Series on Markup Technologies, vol. 19_. DOI: https://doi.org/10.4242/BalisageVol19.Dekker01.  \n",
    "\n",
    "- Haentjens Dekker, Ronald, Elli Bleeker, Bram Buitendijk, Astrid Kulsdom and David J. Birnbaum. \"TAGML: A markup language of many dimensions.\" Presented at Balisage: The Markup Conference 2018, Washington, DC, July 31 - August 3, 2018. In _Proceedings of Balisage: The Markup Conference 2018. Balisage Series on Markup Technologies, vol. 21_. DOI: https://doi.org/10.4242/BalisageVol21.HaentjensDekker01 \n",
    "\n",
    "- Kent, William. 1978. _Data and Reality: Basic Assumptions in Data Processing Reconsidered_. North-Holland Publishing Company.  \n",
    "\n",
    "- Lovecraft, H.P. 1928. _The Call of the Cthulhu_. Available online at http://www.hplovecraft.com/writings/texts/fiction/cc.aspx\n",
    "\n",
    "- Marche, Stephen. 2012. \"Literature Is not Data: Against Digital Humanities\". In _Los Angeles Review of Books_. Online: https://lareviewofbooks.org/article/literature-is-not-data-against-digital-humanities/#   \n",
    "\n",
    "- Moretti, Franco. 2000. \"Conjectures on World Literature\". In _New Left Review_ vol.1. Online available at https://newleftreview.org/II/1/franco-moretti-conjectures-on-world-literature\n",
    "\n",
    "- Ore, Christian-Emil and Oyvind Eide. 2009. \"TEI and Cultural Heritage Ontologies: Exchange of Information?\" In _Literary and Linguistic Computing_ vol. 24, no. 2, pp. 161-172.\n",
    "\n",
    "- Peroni, Silvio, Aldo Gangemi, and Fabio Vitali. 2011. \"Dealing with Markup Semantics\". In _Proceedings of the 7th International Conference on Semantic Systems (I-Semantics 2011)_, edited by Clara Ghidini _et al_, New York: ACM, pp. 111-118.\n",
    "\n",
    "- Piez, Wendell. 2014. \"TEI in LMNL: Implications for Modeling\". In _Journal of the Text Encoding Initiative_, vol.8.  \n",
    "\n",
    "- Robinson, Peter. \"Desiderata for Digital Editions/Digital Humanists should get out of textual scholarship\". Presented at Digital Humanities Conference 2013, Lincoln, Nebraska, 19 July 2013. Slides at https://www.slideshare.net/PeterRobinson10/peter-robinson-24420126\n",
    "\n",
    "- Sahle, Patrick. 2013. Digitale Editionsformen-Teil 3: Textbegriffe Und Recodierung. Norderstedt: Books on Demand. http://kups.ub.uni-koeln.de/5353/  \n",
    "\n",
    "- Tennison, Jeni. 2006. \"Overlap, containment and dominance\". _Jeni’s musings_, 2008-12-06. http://www.jenitennison.com/2008/12/06/overlap-containment-and-dominance.html\n",
    "\n",
    "- Vitali, Fabio. 2016. \"The Expressive Power of Digital Formats\". Presented at DiXiT Convention II: \"Academia, Cultural Heritage, Society\", Köln, March 14-16, 2016. Available at http://dixit.uni-koeln.de/wp-content/uploads/Vitali_Digital-formats.pdf  \n",
    "\n",
    "- Van Zundert, Joris. 2018. \"On Not Writing a Review about Mirador: Mirador, IIIF, and the Epistemological Gains of Distributed Digital Scholarly Resources\". In _Digital Medievalist vol. 11, no.1_. DOI: http://doi.org/10.16995/dm.78"
   ]
  },
  {
   "cell_type": "markdown",
   "metadata": {
    "slideshow": {
     "slide_type": "notes"
    }
   },
   "source": [
    "# Extra Slides\n",
    "\n",
    "[In case there's time, or to better answer any questions]"
   ]
  },
  {
   "cell_type": "markdown",
   "metadata": {
    "slideshow": {
     "slide_type": "slide"
    }
   },
   "source": [
    "### Implication for Archival Studies"
   ]
  },
  {
   "cell_type": "markdown",
   "metadata": {
    "slideshow": {
     "slide_type": "fragment"
    }
   },
   "source": [
    "- the content of archives is always curated; a process of selection and exclusion\n",
    "- narratives in archives are a double-edged sword; they can both highlight _and_ obscure objects\n",
    "- the utter arbitrariness of curators; a collection or exposition can convey a false sense of scholarly accuracy and completeness"
   ]
  },
  {
   "cell_type": "markdown",
   "metadata": {
    "slideshow": {
     "slide_type": "slide"
    }
   },
   "source": [
    "### Textual Awareness"
   ]
  },
  {
   "cell_type": "markdown",
   "metadata": {
    "slideshow": {
     "slide_type": "notes"
    }
   },
   "source": [
    "Including humanist scholars in the process of text modeling is unavoidable; excluding them undesirable. Dirk van Hulle coined the term \"textual awareness\" to describe the understanding of how a text is made (from a textual genetics point of view); I think it apt to expand that definition by including an awareness of the process of data transformations."
   ]
  },
  {
   "cell_type": "markdown",
   "metadata": {
    "slideshow": {
     "slide_type": "fragment"
    }
   },
   "source": [
    "- the understanding of how a text is made\n",
    "- an awareness of the process of data transformations"
   ]
  },
  {
   "cell_type": "markdown",
   "metadata": {
    "slideshow": {
     "slide_type": "notes"
    }
   },
   "source": [
    "This necessitates a different focus in the education of humanities scholars, which should at least include information modeling and background knowledge of different data structures. As William Kent wrote:"
   ]
  },
  {
   "cell_type": "markdown",
   "metadata": {
    "slideshow": {
     "slide_type": "slide"
    }
   },
   "source": [
    "_\"There is a flow of ideas from mind to mind; there are translations along the way, from concept to natural language to formal language and back again...\"_\n",
    "\n",
    "Kent, 1978"
   ]
  },
  {
   "cell_type": "markdown",
   "metadata": {
    "slideshow": {
     "slide_type": "subslide"
    }
   },
   "source": [
    "We should appreciate the productivity of scholarly discourse and, instead of striving towards objective descriptions of our ideas, we should formalise our interpretations."
   ]
  },
  {
   "cell_type": "markdown",
   "metadata": {
    "slideshow": {
     "slide_type": "notes"
    }
   },
   "source": [
    "TAG and _Alexandria_ provide us with new, unprecedented ways to do just that."
   ]
  },
  {
   "cell_type": "markdown",
   "metadata": {
    "slideshow": {
     "slide_type": "slide"
    }
   },
   "source": [
    "## Semantics"
   ]
  },
  {
   "cell_type": "markdown",
   "metadata": {
    "slideshow": {
     "slide_type": "subslide"
    }
   },
   "source": [
    "In order for the system to properly manage and process the information you give it, it needs constraints:\n",
    "\n",
    "- Naming conventions \n",
    "\n",
    "- Semantic properties of and relationships between categories\n",
    "\n",
    "- Pre-definition of information (data type X needs to be interpreted as Y)"
   ]
  },
  {
   "cell_type": "markdown",
   "metadata": {
    "slideshow": {
     "slide_type": "subslide"
    }
   },
   "source": [
    "TEI is primarily written for humans, it provides documentation rather than a formal description of the semantic of tags."
   ]
  },
  {
   "cell_type": "markdown",
   "metadata": {
    "slideshow": {
     "slide_type": "subslide"
    }
   },
   "source": [
    "This would be our ideal separation of concerns:\n",
    "\n",
    "Text characters → markup → schema → ontology"
   ]
  },
  {
   "cell_type": "markdown",
   "metadata": {
    "slideshow": {
     "slide_type": "subslide"
    }
   },
   "source": [
    "<img align=\"center\" src=\"images/semantics.jpg\">"
   ]
  },
  {
   "cell_type": "markdown",
   "metadata": {
    "slideshow": {
     "slide_type": "subslide"
    }
   },
   "source": [
    "Promising work in the area of TEI, formal ontologies and semantic markup: \n",
    "- TEI Abstract Model by the TEI Consortium \n",
    "- TEI and CIDOC-CRM by Christian-Emil Ore and Oyvind Eide (2009)\n",
    "- LA EARMARK (Peroni _et al_ 2011) presents a TEI Ontological Model: \"an ontological extension of the TEI framework to partially formalise the semantics of the markup constructs it provides\" that uses OWL formal ontologies (Ciotti and Tomasi, 2016).\n",
    "- BECHAMEL project by David Dubin, Michael Sperberg-McQueen, Claus Huitfeldt and Allan Renear"
   ]
  },
  {
   "cell_type": "markdown",
   "metadata": {
    "slideshow": {
     "slide_type": "slide"
    }
   },
   "source": [
    "## Data typing"
   ]
  },
  {
   "cell_type": "markdown",
   "metadata": {
    "slideshow": {
     "slide_type": "fragment"
    }
   },
   "source": [
    "In XML, all annotations by default behave like strings. Other data types (like `<date=\"2018-11-02\"/>`) need to be specified in the schema. "
   ]
  },
  {
   "cell_type": "markdown",
   "metadata": {
    "slideshow": {
     "slide_type": "fragment"
    }
   },
   "source": [
    "TAGML has data typing: users can specify whether a specific annotation is a List, a Number, a String, a Boolean, etc. "
   ]
  },
  {
   "cell_type": "markdown",
   "metadata": {
    "slideshow": {
     "slide_type": "subslide"
    }
   },
   "source": [
    "`[lecture date={year=2018 weekday=\"Friday\" month=11 almostWeekend=True}> some text here <lecture]`"
   ]
  },
  {
   "cell_type": "markdown",
   "metadata": {
    "slideshow": {
     "slide_type": "slide"
    }
   },
   "source": [
    "## Containment versus Dominance"
   ]
  },
  {
   "cell_type": "markdown",
   "metadata": {
    "slideshow": {
     "slide_type": "fragment"
    }
   },
   "source": [
    "\"Containment is a happenstance relationship ... while dominance is one that has a meaningful semantic. A page may happen to contain a stanza, but a poem dominates the stanzas that it contains.\""
   ]
  },
  {
   "cell_type": "markdown",
   "metadata": {
    "slideshow": {
     "slide_type": "fragment"
    }
   },
   "source": [
    "In other words: dominance is meaningful; containment is not."
   ]
  },
  {
   "cell_type": "markdown",
   "metadata": {
    "slideshow": {
     "slide_type": "notes"
    }
   },
   "source": [
    "While XML doesn't distinguish between dominance and containment (an element both contains its descendants and dominates them); TAGML does. Again, this is possible by means of layers. If we explicitly want to express dominance, we make sure that the elements are in the same layer (e.g., `[page>` dominates `[line>` and are both in the same layer). The \"happenstance relationship\" between elements is expressed when layers overlap."
   ]
  }
 ],
 "metadata": {
  "celltoolbar": "Slideshow",
  "kernelspec": {
   "display_name": "Python 3",
   "language": "python",
   "name": "python3"
  },
  "language_info": {
   "codemirror_mode": {
    "name": "ipython",
    "version": 3
   },
   "file_extension": ".py",
   "mimetype": "text/x-python",
   "name": "python",
   "nbconvert_exporter": "python",
   "pygments_lexer": "ipython3",
   "version": "3.6.5"
  }
 },
 "nbformat": 4,
 "nbformat_minor": 2
}
