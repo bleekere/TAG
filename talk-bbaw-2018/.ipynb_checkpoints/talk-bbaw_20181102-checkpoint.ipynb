{
 "cells": [
  {
   "cell_type": "markdown",
   "metadata": {
    "slideshow": {
     "slide_type": "notes"
    }
   },
   "source": [
    "In _The Call of the Cthulhu_ (1926), science fiction writer H.P. Lovecraft wrote:"
   ]
  },
  {
   "cell_type": "markdown",
   "metadata": {
    "slideshow": {
     "slide_type": "slide"
    }
   },
   "source": [
    "_\"The most merciful thing in the world, I think, is the inability of the human mind to correlate all its contents. We live on a placid island of ignorance in the midst of black seas of infinity, and it was not meant that we should voyage far. The sciences, each straining in its own direction, have hitherto harmed us little; but some day the piecing together of dissociated knowledge will open up such terrifying vistas of reality, and of our frightful position therein, that we shall either go mad from the revelation or flee from the deadly light into the peace and safety of a new dark age.\"_"
   ]
  },
  {
   "cell_type": "markdown",
   "metadata": {
    "slideshow": {
     "slide_type": "notes"
    }
   },
   "source": [
    "Despite the ominous picture that is painted here, humankind has had the desire to \"piece together dissociated knowledge\" for centuries. Around 290 BC, King Ptolemy the first or his son, king Ptolemy the second (the record's not clear on that) charged the founding of a research institute which they called the \"Mouseion\" in honorary mention of the Muses. Part of this research institute was the library of Alexandria, famous to this day, which had for objective to be a \"universal library\": they wanted to \"collect all the books in the world\" and, notably, \"the writings of all men _as far as they were worth any attention_\". As all archival collections, the library of Alexandria was established and created on a number of selection criteria. (We'll get back to that later.)"
   ]
  },
  {
   "cell_type": "markdown",
   "metadata": {
    "slideshow": {
     "slide_type": "slide"
    }
   },
   "source": [
    "    [image of library]"
   ]
  },
  {
   "cell_type": "markdown",
   "metadata": {
    "slideshow": {
     "slide_type": "notes"
    }
   },
   "source": [
    "The libraries were collectors of information and created what you can see as the first centre of knowledge production. Their methods of examining copies and establishing \"the best\" form the base of textual criticism. Scholars from over the civilised world came to work in the Mouseion. They had considerable academic freedom and made avid use of the libary's collection which resulted in high-end scholarship. "
   ]
  },
  {
   "cell_type": "markdown",
   "metadata": {
    "slideshow": {
     "slide_type": "notes"
    }
   },
   "source": [
    "The goal of the Mouseion and Alexandria was"
   ]
  },
  {
   "cell_type": "markdown",
   "metadata": {
    "slideshow": {
     "slide_type": "slide"
    }
   },
   "source": [
    "\"to unite all scholarly knowledge\""
   ]
  },
  {
   "cell_type": "markdown",
   "metadata": {
    "slideshow": {
     "slide_type": "notes"
    }
   },
   "source": [
    "There was undeniably a political reasoning behind this objective: the ancient Egyptian rulers certainly understood the truth behind the idiom \"knowledge is power\" and were pretty rigorous in their methods of aquisition and their dissemination policy. But, politics aside, the combination of a vast library collection and an international research center facilitated the production of more knowledge, and led to advances in the fields of natural sciences, geography, mathematics, literature, and philosophy. I think it safe to assume that today's digital libraries and archives still have this noble ambition. "
   ]
  },
  {
   "cell_type": "markdown",
   "metadata": {
    "slideshow": {
     "slide_type": "notes"
    }
   },
   "source": [
    "But what is that, exactly: _unite all scholarly knowledge_? Arguably, the least problematic word in that phrase is \"scholarly\", although what is deemed scholarly and what is not is also a matter of debate. The other words are even trickier. What does it mean, to \"unite\"? Does it suffice to bring together all books in one physical place? Books may stand side-by-side on a shelve, but that doesn't mean that their contents are united, let alone synthesised. What is knowledge, actually? And how do you know if you have it all (do you ever)?"
   ]
  },
  {
   "cell_type": "markdown",
   "metadata": {
    "slideshow": {
     "slide_type": "notes"
    }
   },
   "source": [
    "With regard to that last question, it's interesting to look at the statement embodied by  the Open World Assumption of the Semantic Web:"
   ]
  },
  {
   "cell_type": "markdown",
   "metadata": {
    "slideshow": {
     "slide_type": "slide"
    }
   },
   "source": [
    "\"No single agent or observer has complete knowledge... We admit that our knowledge of the world is incomplete.\""
   ]
  },
  {
   "cell_type": "markdown",
   "metadata": {
    "slideshow": {
     "slide_type": "notes"
    }
   },
   "source": [
    "It means that the absence of a piece of information doesn't make it false: something can be true even if we cannot prove it's true. We'll hear more about this assumption later."
   ]
  },
  {
   "cell_type": "markdown",
   "metadata": {
    "slideshow": {
     "slide_type": "notes"
    }
   },
   "source": [
    "Phrases like \"unite scholarly knowledge\" remind us of the visionaries from the early days of digital textual scholarship, who saw in the digital medium the way to \"make information accessible for everyone to look at from different perspectives, across disciplinary divides\", creating every expanding knowledge sites that transcend individual project \"silos\" and follow the linked data principles. And those of you working in digital textual scholarship will know that, despite our best attentions, we have not yet reached that goal."
   ]
  },
  {
   "cell_type": "markdown",
   "metadata": {
    "slideshow": {
     "slide_type": "notes"
    }
   },
   "source": [
    "In a recent review-turned-reflection on Mirador, my colleague Joris van Zundert notes that, in fact, these data silos still exist. He identifies at least two causes: the limited financial resources (intra-institutional collaboration is more costly, both in time and in money, than a local solution) and the convenience of the developers who incidentally _also_ have to deal with limited time and money. In short, even though _in principle_ most scholars would agree that"
   ]
  },
  {
   "cell_type": "markdown",
   "metadata": {
    "slideshow": {
     "slide_type": "slide"
    }
   },
   "source": [
    "\"... keeping tools and data locked in one place behind a one-size-fits-all interface would be in stark contrast to the heterogeneous demands and requirements scholars had for document resources that were spread, quite literally, across the planet...\""
   ]
  },
  {
   "cell_type": "markdown",
   "metadata": {
    "slideshow": {
     "slide_type": "notes"
    }
   },
   "source": [
    "It remains our reality."
   ]
  },
  {
   "cell_type": "markdown",
   "metadata": {
    "slideshow": {
     "slide_type": "notes"
    }
   },
   "source": [
    "In this talk, I examine how digital text modeling can, potentially, fulfil the objective of the great research libraries of the past: unite and disseminate scholarly knowledge. I identify three requirements (or let's call them \"desiderata\", as a salute to Peter Robinson): "
   ]
  },
  {
   "cell_type": "markdown",
   "metadata": {
    "slideshow": {
     "slide_type": "slide"
    }
   },
   "source": [
    "1. an **inclusive data model** that \n",
    "    \n",
    "    1.1. allows for advanced textual features \n",
    "    \n",
    "    1.2. provides a way to formalise the meaning of markup; \n",
    "\n",
    "\n",
    "2. **support for multiple perspectives on a source text**;  \n",
    "\n",
    "\n",
    "3. an editing and version management tool that is platform-independent."
   ]
  },
  {
   "cell_type": "markdown",
   "metadata": {
    "slideshow": {
     "slide_type": "notes"
    }
   },
   "source": [
    "The discussion of these desiderata form primarily the background for a presentation of Alexandria, a text repository system that is based on a new data model called TAG, both under development at the R&D group of the HuC."
   ]
  },
  {
   "cell_type": "markdown",
   "metadata": {
    "slideshow": {
     "slide_type": "notes"
    }
   },
   "source": [
    "Because these requirements are related to the principles of the Semantic Web, the Linked Open Data (LOD) framework, and the ideals of a distributed architecture, I will touch upon those topics as well, but only in passing: the main goal of my talk is to establish an informed discussion about information modeling, data structures and digital textual scholarship. And, of course, to present and promote Alexandria."
   ]
  },
  {
   "cell_type": "code",
   "execution_count": null,
   "metadata": {},
   "outputs": [],
   "source": []
  }
 ],
 "metadata": {
  "celltoolbar": "Slideshow",
  "kernelspec": {
   "display_name": "Python 3",
   "language": "python",
   "name": "python3"
  },
  "language_info": {
   "codemirror_mode": {
    "name": "ipython",
    "version": 3
   },
   "file_extension": ".py",
   "mimetype": "text/x-python",
   "name": "python",
   "nbconvert_exporter": "python",
   "pygments_lexer": "ipython3",
   "version": "3.6.5"
  }
 },
 "nbformat": 4,
 "nbformat_minor": 2
}
