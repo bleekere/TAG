{
 "cells": [
  {
   "cell_type": "markdown",
   "metadata": {},
   "source": [
    "# Texts for TAG experiments \n",
    "\n",
    "## textual phenomena\n",
    "Issues that are difficult to model in XML (and that should ideally be present in the example text):\n",
    "* Overlap\n",
    "* Discontinuity\n",
    "* Hierarchy, containment, dominance\n",
    "* Artifactual hierarchy\n",
    "* Multiple layers of annotations\n",
    "\n",
    "Goal of this exercise: to propose queries for text, markup, annotations, or a combination of those components. \n",
    "\n",
    "## possible texts\n",
    "* Raymond Queneau, _Exercises de style_\n",
    "* Herman Melville, _Moby Dick_\n",
    "* Virginia Woolf, _Time Passes_\n",
    "* Henry Thoreau, _Walden_\n",
    "\n",
    "### Herman Melville\n",
    "Particular to _Moby Dick_:\n",
    "- lexical variety, vocabulary richness\n",
    "- first person narrator, using direct address\n",
    "- textual variation between the first British edition and the first American edition\n",
    "\n",
    "### MEL = a critical archive of the works of Herman Melville\n",
    "* transcriptions of the texts in TEI/XML and kept in TextLab (build by Nick Laiacona), an online editing environment that uses Juxta Commons to collate, annotate, and publish the editions. You need a login to access TextLab.\n",
    "* Interesting for collation: chapter 1 and chapter 4 - revisions, variants, expurgations\n",
    "* Revision narrative to provide editorial explanation of revisions\n",
    "* Contextual information that is potentially interesting for querying:\n",
    "  - Melville's personal library\n",
    "  - Melville's travels (Itinerary Projects) - the use of place names in MOD\n",
    "  - Moby Dick adaptations\n",
    "  - Images and metadata related to Melville's use of art in \"Moby Dick\"\n",
    "\n",
    "  When using text or information from the MEL project please attribute as follows: \"Moby-Dick as Fluid Text,\" in \"Versions of Moby-Dick,\" The Melville Electronic Library, an NEH-funded scholarly edition (http://mel.hofstra.edu/).\"\n",
    "\n",
    "\n",
    "**Experiment LMNL encoding Moby Dick (MD) chapter 15**\n",
    "* textual perspective (sentences (s), paragraphs (p))\n",
    "* documentary perspective (lines, l)\n",
    "* quotes and speakers\n",
    "* direct address\n",
    "* nantucket dialect\n"
   ]
  },
  {
   "cell_type": "code",
   "execution_count": null,
   "metadata": {
    "collapsed": true
   },
   "outputs": [],
   "source": []
  }
 ],
 "metadata": {
  "anaconda-cloud": {},
  "kernelspec": {
   "display_name": "Python [Root]",
   "language": "python",
   "name": "Python [Root]"
  },
  "language_info": {
   "codemirror_mode": {
    "name": "ipython",
    "version": 3
   },
   "file_extension": ".py",
   "mimetype": "text/x-python",
   "name": "python",
   "nbconvert_exporter": "python",
   "pygments_lexer": "ipython3",
   "version": "3.5.2"
  }
 },
 "nbformat": 4,
 "nbformat_minor": 0
}
